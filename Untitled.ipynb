{
  "nbformat": 4,
  "nbformat_minor": 0,
  "metadata": {
    "colab": {
      "name": "Untitled",
      "version": "0.3.2",
      "provenance": []
    },
    "kernelspec": {
      "name": "python3",
      "display_name": "Python 3"
    }
  },
  "cells": [
    {
      "cell_type": "code",
      "metadata": {
        "id": "ck_SDoH5EZWc",
        "colab_type": "code",
        "outputId": "88f08215-3cb9-401c-df8d-b4006d95eef1",
        "colab": {
          "base_uri": "https://localhost:8080/",
          "height": 70
        }
      },
      "source": [
        "#Machine Learing:  Supervisionada\n",
        "\n",
        "from sklearn import tree\n",
        "\n",
        "lisa = 1\n",
        "irregular = 0\n",
        "maça = 1\n",
        "laranja = 0\n",
        "\n",
        "\n",
        "pomar = [[150, lisa], [130,lisa], [180, irregular], [160, irregular]]\n",
        "resultado = [maça, maça, laranja, laranja]\n",
        "\n",
        "classificador = tree.DecisionTreeClassifier()\n",
        "classificador= classificador.fit(pomar, resultado)\n",
        "\n",
        "\n",
        "#Código do Vídeo:\n",
        "\n",
        "peso = input('Entre com o peso: ')\n",
        "superficie = input('Entre com a superficie: 1 lisa ou 0 irregular: ') \n",
        "\n",
        "resultadoUsuário = classificador.predict([[peso, superficie]])#Esse código é o que faz a máquina aprender\n",
        "\n",
        "\n",
        "\n",
        "#Código dos Comentários:DANDO ERRO\n",
        "\n",
        "#peso, textura = input(\"Entre com o peso: \"),  input(\"Entre com a superficie: \")\n",
        "#if textura.lower() == lisa:\n",
        "#    superficie = 1\n",
        "#elif textura.lower() == irregular:\n",
        "#    superficie = 0\n",
        "\n",
        "#userresult = classificador.predict([[peso,superficie]])#Esse código é que faz a máquina aprender\n",
        "\n",
        "\n",
        "if resultadoUsuário == 1:\n",
        "  print('É uma maçã')\n",
        "else:\n",
        "  print('É uma laranja')\n",
        "  \n",
        "  \n",
        "\n",
        "\n"
      ],
      "execution_count": 0,
      "outputs": [
        {
          "output_type": "stream",
          "text": [
            "Entre com o peso: 200\n",
            "Entre com a superficie: 1 lisa ou 0 irregular: 1\n",
            "É uma maçã\n"
          ],
          "name": "stdout"
        }
      ]
    }
  ]
}